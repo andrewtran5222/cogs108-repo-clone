{
 "cells": [
  {
   "cell_type": "code",
   "execution_count": 14,
   "metadata": {},
   "outputs": [],
   "source": [
    "import pandas as pd\n",
    "import numpy as np\n",
    "import matplotlib.pyplot as plt"
   ]
  },
  {
   "cell_type": "code",
   "execution_count": null,
   "metadata": {},
   "outputs": [],
   "source": [
    "# Load the data\n",
    "data = pd.read_csv('/Users/minsangkim/Desktop/archive/QOL(County Level).csv')\n",
    "print(data.head) "
   ]
  },
  {
   "cell_type": "code",
   "execution_count": null,
   "metadata": {},
   "outputs": [],
   "source": [
    "# Tidying data\n",
    "columns = ['LSTATE', 'NMCNTY', 'ULOCALE', 'Unemployment', '2022 Median Income', 'Cost of Living',\n",
    "           'Diversity Rank (Race)', 'Diversity Rank (Gender)']\n",
    "data_cleaned = data[columns]\n",
    "print(data_cleaned.head)"
   ]
  },
  {
   "cell_type": "code",
   "execution_count": null,
   "metadata": {},
   "outputs": [],
   "source": [
    "# Removing following symbols like % and $\n",
    "data_cleaned['Unemployment'] = data_cleaned['Unemployment'].str.rstrip('%').astype('float')\n",
    "data_cleaned['2022 Median Income'] = data_cleaned['2022 Median Income'].replace({'\\$': '', ',': ''}, regex=True).astype('float')\n",
    "data_cleaned['Cost of Living'] = data_cleaned['Cost of Living'].replace({'\\$': '', ',': ''}, regex=True).astype('float')"
   ]
  },
  {
   "cell_type": "code",
   "execution_count": null,
   "metadata": {},
   "outputs": [],
   "source": [
    "# Creating city affordability column by checking the income/cost of living ratio\n",
    "data_cleaned['City Affordability'] = data_cleaned['2022 Median Income'].astype('float') / data_cleaned['Cost of Living'].astype('float')\n",
    "data_cleaned['City Affordability'].head"
   ]
  },
  {
   "cell_type": "code",
   "execution_count": null,
   "metadata": {},
   "outputs": [],
   "source": [
    "# Basic Data Visualization\n",
    "data.hist(bins=15, figsize=(15, 10))\n",
    "plt.show()"
   ]
  }
 ],
 "metadata": {
  "kernelspec": {
   "display_name": "Python 3",
   "language": "python",
   "name": "python3"
  },
  "language_info": {
   "codemirror_mode": {
    "name": "ipython",
    "version": 3
   },
   "file_extension": ".py",
   "mimetype": "text/x-python",
   "name": "python",
   "nbconvert_exporter": "python",
   "pygments_lexer": "ipython3",
   "version": "3.11.5"
  }
 },
 "nbformat": 4,
 "nbformat_minor": 2
}
