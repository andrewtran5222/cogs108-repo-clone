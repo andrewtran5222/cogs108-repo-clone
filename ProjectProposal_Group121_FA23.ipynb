{
 "cells": [
  {
   "cell_type": "markdown",
   "metadata": {},
   "source": [
    "# COGS 108 - Project Proposal"
   ]
  },
  {
   "cell_type": "markdown",
   "metadata": {},
   "source": [
    "# Names\n",
    "\n",
    "- Bianca Gao | A16866233 \n",
    "- Minsang Kim | A16636382\n",
    "- Sebastian | A16419096\n",
    "- Andrew Tran | A17644760\n",
    "- Sukhman Virk | A16228396"
   ]
  },
  {
   "cell_type": "markdown",
   "metadata": {},
   "source": [
    "# Research Question"
   ]
  },
  {
   "cell_type": "markdown",
   "metadata": {},
   "source": [
    "Is there a positive correlation between the quality of life of different states in the United States, measured by multiple factors such as AQI, min wage, unemployment among many other factors, and the use of electric cars in that region. Aim to check if electric vehicles are more likely to exist in regions where quality of life is higher or if that is not the case."
   ]
  },
  {
   "cell_type": "markdown",
   "metadata": {},
   "source": [
    "## Background and Prior Work"
   ]
  },
  {
   "cell_type": "markdown",
   "metadata": {},
   "source": [
    "Electrical vehicle (EV) sales have increased in the United States from 0.2% to 4.6% from 2011 to 2021 <a name=\"cite_ref-1\"></a>[<sup>1</sup>](#cite_note-1). Sales and number of electric vehicles on the road are projected to increase over the next few years as well. According to S&P Global Mobility, 40% of passenger vehicles are expected to be electric vehicles by 2030 <a name=\"cite_ref-2\"></a>[<sup>2</sup>](#cite_note-2). As current California residents, it is interesting to see this anticipated growth – as of September 2021, the state ranks first for Tesla sales <a name=\"cite_ref-3\"></a>[<sup>3</sup>](#cite_note-3). \n",
    "\n",
    "The growing market can be attributed to environmental concerns, money-saving concerns, government incentives (tax credits, rebates, programs), and job creation from the production of EVs <a name=\"cite_ref-1\"></a>[<sup>1</sup>](#cite_note-1). However, raises the question of access – who can drive the sales for this market, and who can participate? \n",
    "\n",
    "As governments attempt to transition to cleaner energy usage and promote the consumption of greener, electric vehicles, certain groups of people are excluded from the movement despite needing the benefits. Studies have shown that low-income, underrepresented communities live in areas of more transport emissions and lower air quality, so an increase in EVs would greatly improve living conditions <a name=\"cite_ref-4\"></a>[<sup>4</sup>](#cite_note-4). However, does this translate to electric vehicle numbers and distribution in these communities, and what variables contribute to this? \n",
    "\n",
    "Our data aims to support the idea that a large-scale electric vehicle transition is not yet equitable as we attempt to discover correlations among income level, quality of life, and electric vehicle purchase. \n",
    "\n",
    "1. <a name=\"cite_note-1\"></a> [^](#cite_ref-1) https://www.bls.gov/opub/btn/volume-12/charging-into-the-future-the-transition-to-electric-vehicles.htm \n",
    "2. <a name=\"cite_note-2\"></a> [^](#cite_ref-2) https://www.spglobal.com/mobility/en/research-analysis/ev-chargers-how-many-do-we-need.html \n",
    "3. <a name=\"cite_note-3\"></a> [^](#cite_ref-3) https://www.cross-sell.com/tesla-sales-data#:~:text=September%202021,24.77%25%20of%20Tesla%20September%20sales \n",
    "4. <a name=\"cite_note-4\"></a> [^](#cite_ref-4) https://sciencepolicyreview.org/2021/08/equity-transition-electric-vehicles/ "
   ]
  },
  {
   "cell_type": "markdown",
   "metadata": {},
   "source": [
    "# Hypothesis\n"
   ]
  },
  {
   "cell_type": "markdown",
   "metadata": {},
   "source": [
    "Considering that clean energy is a generally progressive policy and the fact that clean energy is known to be more expensive than its alternatives, we expect there to be a positive relationship between those with a high quality of life and adoption of electric vehicles, because those with an already high quality of life can afford to adopt an environmentally friendly option. However, considering there are many other relevant factors that affect quality of life, along with the fact that different states have different policies and views on clean energy and are implementing them at different rates, we hypothesize that the correlation may be fairly weak."
   ]
  },
  {
   "cell_type": "markdown",
   "metadata": {},
   "source": [
    "# Data"
   ]
  },
  {
   "cell_type": "markdown",
   "metadata": {},
   "source": [
    "Our ideal dataset would include variables such as:\n",
    "- Quality of life factors (some, not all)\n",
    "    - Air Quality Index (AQI)\n",
    "    - Minimum Wage\n",
    "    - Unemployment Rate\n",
    "    - Median Household Income\n",
    "    - Healthcare Access\n",
    "    - Education Levels (percentage of residents with a college degree)\n",
    "    - Crime Rates\n",
    "    - Housing Affordability\n",
    "    - Healthcare Quality and Access\n",
    "- Electric vehicle adoption\n",
    "- Geographic information\n",
    "- Environmental data\\\n",
    "Ideally we would want data from all 50 states for a comprehensive view, with historical data to back it up. This is to compare our findings and make sure whether our hypothesis is true or false.\\\n",
    "We can collect this data from government agencies like data.gov for electric vehicle registrations from each state as well as the demographic information for quality of life factors. The data provided will primarily be in a CSV format.\\\n",
    "A suitable timeframe for observing these datasets could be 5-10 years from 2010 to 2020\n",
    "These are some real datasets that align with our needs for this project:\n",
    "\n",
    "https://www.kaggle.com/datasets/yellowj4acket/air-quality \\\n",
    "https://www.kaggle.com/datasets/ishmaelkiptoo/us-electric-vehicle-population-data \\\n",
    "https://www.kaggle.com/datasets/zacvaughan/cityzipcountyfips-quality-of-life\\\n",
    "https://catalog.data.gov/dataset/city-and-county-vehicle-inventories-f07a0 \\\n",
    "https://catalog.data.gov/dataset/electric-vehicle-population-data \\\n",
    "https://vpic.nhtsa.dot.gov/ \\\n",
    "https://www.census.gov/ \\\n",
    "https://www.bls.gov/ \\\n",
    "https://aqs.epa.gov/aqsweb/airdata/download_files.html\n",
    "\n"
   ]
  },
  {
   "cell_type": "markdown",
   "metadata": {},
   "source": [
    "# Ethics & Privacy"
   ]
  },
  {
   "cell_type": "markdown",
   "metadata": {},
   "source": [
    "The data collected might inadvertently exclude certain populations, especially those in rural areas or regions with limited internet access, leading to an incomplete representation. There's also a risk of bias in data collection methods, as regions with poor air quality or lower income might have less data available on EV ownership. Also, The proposed data might have biases, especially if it's primarily sourced from online platforms or regions with higher internet penetration. This could exclude populations in areas with limited internet access or those who don't engage online. To ensure this, the data collected should be diverse enough, covering both rural and urban areas. To detect biases, we'll conduct preliminary analyses to identify any underrepresented regions or demographics. During analysis, we'll use statistical methods to account for potential biases and ensure our findings are generalizable. A potential concern beyond the biases is the analysis could provide certain stereotypes to certain attributes like race and gender. To handle this, we need to have inclusive analysis on the data that we collected. "
   ]
  },
  {
   "cell_type": "markdown",
   "metadata": {},
   "source": [
    "# Team Expectations "
   ]
  },
  {
   "cell_type": "markdown",
   "metadata": {},
   "source": [
    "\n",
    "- Complete assigned aspects of the project on time and with adequate effort (as much as you can contribute)! \n",
    "- Try to attend all meeting throughout the quarter and be on time for them unless one has to miss it for unavoidable reasons.\n",
    "- Communicate promptly and effectively on Discord. Whether anything will or won’t be worked on, it should be communicated.\n",
    "- Openly discuss and point out problems if something doesn’t look right so we can quickly fix or improve it. \n",
    "- Respect each other’s opinions and perspectives even in disagreements. Be willing to compromise and find solutions that works for the team.\n"
   ]
  },
  {
   "cell_type": "markdown",
   "metadata": {},
   "source": [
    "# Project Timeline Proposal"
   ]
  },
  {
   "cell_type": "markdown",
   "metadata": {},
   "source": [
    "| Meeting Date  | Meeting Time| Completed Before Meeting  | Discuss at Meeting |\n",
    "|---|---|---|---|\n",
    "| 10/24  |  4 PM | Look through past projects  | Look through past projects together and discuss corresponding answers to the google form | \n",
    "| 10/25  |  7 PM |  Complete assigned questions for Part 1 of Final Project  | Consolidate ideas and submit form | \n",
    "| 11/1  | 5 PM  | Look over Project Proposal guidelines  | Come up with research topic/question and divide up work |\n",
    "| 11/7  | 5 PM  | Background research and finalize project details (data, question, etc) – ensuring everyone is on the same page  | Discuss datasets, wrangling, and possible analytical approaches – assign group members to lead parts |\n",
    "| 11/14  | 5 PM  | Import and wrangle data  | Review/edit wrangling – discuss analysis plan |\n",
    "| 11/15 | 5 PM | Finalize wrangling | Checkpoint #1 - Data |\n",
    "| 11/29 | 5 PM  | Finalize EDA | Checkpoint #2 - EDA + begin analysis |\n",
    "| 12/5 | 5 PM| Complete analysis: draft results/conclusion/discussion  | Discuss/edit full project  |\n",
    "| 12/12-13 | Before 11:59 PM | Final review | Final Project Video and Submission  |"
   ]
  }
 ],
 "metadata": {
  "kernelspec": {
   "display_name": "Python 3 (ipykernel)",
   "language": "python",
   "name": "python3"
  },
  "language_info": {
   "codemirror_mode": {
    "name": "ipython",
    "version": 3
   },
   "file_extension": ".py",
   "mimetype": "text/x-python",
   "name": "python",
   "nbconvert_exporter": "python",
   "pygments_lexer": "ipython3",
   "version": "3.9.5"
  }
 },
 "nbformat": 4,
 "nbformat_minor": 2
}
